{
 "cells": [
  {
   "cell_type": "markdown",
   "id": "4be4ceee-bde8-4156-90d6-4ba0f2b1e660",
   "metadata": {},
   "source": [
    "# Python Output"
   ]
  },
  {
   "cell_type": "code",
   "execution_count": 1,
   "id": "68454097-b23c-47c9-8358-8e63ac846073",
   "metadata": {},
   "outputs": [
    {
     "name": "stdout",
     "output_type": "stream",
     "text": [
      "hello world\n"
     ]
    }
   ],
   "source": [
    "print(\"hello world\")"
   ]
  },
  {
   "cell_type": "code",
   "execution_count": 2,
   "id": "484529e5-5dcc-46c9-87e7-8ce7595a3957",
   "metadata": {},
   "outputs": [
    {
     "name": "stdout",
     "output_type": "stream",
     "text": [
      "Amit Yadav\n"
     ]
    }
   ],
   "source": [
    "print(\"Amit Yadav\")"
   ]
  },
  {
   "cell_type": "code",
   "execution_count": 3,
   "id": "c199e046-dc36-45f0-8b05-4c90703abd3d",
   "metadata": {},
   "outputs": [
    {
     "name": "stdout",
     "output_type": "stream",
     "text": [
      "3\n"
     ]
    }
   ],
   "source": [
    "print(3)"
   ]
  },
  {
   "cell_type": "code",
   "execution_count": 4,
   "id": "7cdea71b-f6da-4cd4-88a3-e1ba31833c3a",
   "metadata": {},
   "outputs": [
    {
     "name": "stdout",
     "output_type": "stream",
     "text": [
      "True\n"
     ]
    }
   ],
   "source": [
    "print(True)"
   ]
  },
  {
   "cell_type": "code",
   "execution_count": 5,
   "id": "80abbbdc-8147-497f-bb55-5035e227e4e1",
   "metadata": {},
   "outputs": [
    {
     "name": "stdout",
     "output_type": "stream",
     "text": [
      "amit 1 2 True (3+4j)\n"
     ]
    }
   ],
   "source": [
    "print(\"amit\",1,2,True,3+4j)"
   ]
  },
  {
   "cell_type": "code",
   "execution_count": 8,
   "id": "4384d695-d272-4069-a60b-7b7634071b1a",
   "metadata": {},
   "outputs": [
    {
     "name": "stdout",
     "output_type": "stream",
     "text": [
      "amit# 1# 2# True# (3+4j)\n"
     ]
    }
   ],
   "source": [
    "print(\"amit\",1,2,True,3+4j,sep='# ')"
   ]
  },
  {
   "cell_type": "code",
   "execution_count": 9,
   "id": "4926923c-019e-4ae4-bc1b-6f392c7cfa12",
   "metadata": {},
   "outputs": [
    {
     "name": "stdout",
     "output_type": "stream",
     "text": [
      "helllo\n",
      "world\n"
     ]
    }
   ],
   "source": [
    "print('helllo')\n",
    "print('world')"
   ]
  },
  {
   "cell_type": "code",
   "execution_count": 11,
   "id": "603addf0-cc2e-4112-889f-109bdcf7474e",
   "metadata": {},
   "outputs": [
    {
     "name": "stdout",
     "output_type": "stream",
     "text": [
      "hello-world\n"
     ]
    }
   ],
   "source": [
    "print('hello',end=\"-\")\n",
    "print('world')"
   ]
  },
  {
   "cell_type": "markdown",
   "id": "fa4e2370-2f69-464c-9887-41b8fb9ea629",
   "metadata": {},
   "source": [
    "# Data Types"
   ]
  },
  {
   "cell_type": "code",
   "execution_count": 17,
   "id": "2e3e141d-fc61-4e6f-a8c8-c972351ac7a0",
   "metadata": {},
   "outputs": [
    {
     "name": "stdout",
     "output_type": "stream",
     "text": [
      "8\n",
      "inf\n"
     ]
    }
   ],
   "source": [
    "# Integer\n",
    "print(8)\n",
    "# 1*10^308\n",
    "print(1e309)"
   ]
  },
  {
   "cell_type": "code",
   "execution_count": 18,
   "id": "f1571aab-8023-4e20-be9e-f7ee731e91b4",
   "metadata": {},
   "outputs": [
    {
     "name": "stdout",
     "output_type": "stream",
     "text": [
      "1.3\n",
      "inf\n"
     ]
    }
   ],
   "source": [
    "#float\n",
    "print(1.3)\n",
    "print(1.7e309)"
   ]
  },
  {
   "cell_type": "code",
   "execution_count": 19,
   "id": "68259d72-a368-4715-af25-94d1919ed8e5",
   "metadata": {},
   "outputs": [
    {
     "name": "stdout",
     "output_type": "stream",
     "text": [
      "True\n",
      "False\n"
     ]
    }
   ],
   "source": [
    "# Boolean\n",
    "print(True)\n",
    "print(False)"
   ]
  },
  {
   "cell_type": "code",
   "execution_count": 20,
   "id": "107bdd5f-e6ba-439c-9795-bb60a47357a0",
   "metadata": {},
   "outputs": [
    {
     "name": "stdout",
     "output_type": "stream",
     "text": [
      "My name is amit\n"
     ]
    }
   ],
   "source": [
    "# String\n",
    "print(\"My name is amit\")"
   ]
  },
  {
   "cell_type": "code",
   "execution_count": 21,
   "id": "c39163ea-cfba-4335-a6a5-b9bc3da3c407",
   "metadata": {},
   "outputs": [
    {
     "name": "stdout",
     "output_type": "stream",
     "text": [
      "(3+4j)\n"
     ]
    }
   ],
   "source": [
    "# Complex Number\n",
    "print(3+4j)"
   ]
  },
  {
   "cell_type": "code",
   "execution_count": 22,
   "id": "b58bbdc8-e081-4264-a916-a1e3ab49648c",
   "metadata": {},
   "outputs": [
    {
     "name": "stdout",
     "output_type": "stream",
     "text": [
      "[1, 2, 3]\n"
     ]
    }
   ],
   "source": [
    "# list \n",
    "print([1,2,3])"
   ]
  },
  {
   "cell_type": "code",
   "execution_count": 23,
   "id": "c634bf87-bbb7-4b81-8447-e3170d476c40",
   "metadata": {},
   "outputs": [
    {
     "name": "stdout",
     "output_type": "stream",
     "text": [
      "(1, 2, 3, 4, 5)\n"
     ]
    }
   ],
   "source": [
    "# Tuple \n",
    "print((1,2,3,4,5))"
   ]
  },
  {
   "cell_type": "code",
   "execution_count": 24,
   "id": "f5a0ae20-a9a6-4001-bbab-b32bad211806",
   "metadata": {},
   "outputs": [
    {
     "name": "stdout",
     "output_type": "stream",
     "text": [
      "{1, 2, 4}\n"
     ]
    }
   ],
   "source": [
    "# Sets\n",
    "print({1,2,4})"
   ]
  },
  {
   "cell_type": "code",
   "execution_count": 25,
   "id": "ce4bf72a-10a9-48c4-a205-6171732eb6a5",
   "metadata": {},
   "outputs": [
    {
     "name": "stdout",
     "output_type": "stream",
     "text": [
      "{'name': 'amit', 'age': '20', 'gender': 'male'}\n"
     ]
    }
   ],
   "source": [
    "# Dictonery\n",
    "print({'name':'amit','age':'20','gender':'male'})"
   ]
  },
  {
   "cell_type": "code",
   "execution_count": 26,
   "id": "eb8858eb-9324-4b80-aea4-71eb62c9657e",
   "metadata": {},
   "outputs": [
    {
     "data": {
      "text/plain": [
       "int"
      ]
     },
     "execution_count": 26,
     "metadata": {},
     "output_type": "execute_result"
    }
   ],
   "source": [
    "type(2)"
   ]
  },
  {
   "cell_type": "code",
   "execution_count": 27,
   "id": "f583ac0b-9edd-433f-b87e-a9d2bbcf3880",
   "metadata": {},
   "outputs": [
    {
     "data": {
      "text/plain": [
       "float"
      ]
     },
     "execution_count": 27,
     "metadata": {},
     "output_type": "execute_result"
    }
   ],
   "source": [
    "type(3.5)"
   ]
  },
  {
   "cell_type": "code",
   "execution_count": 30,
   "id": "87a4ee18-8ff2-4b02-a8a4-af73530d6f27",
   "metadata": {},
   "outputs": [
    {
     "data": {
      "text/plain": [
       "str"
      ]
     },
     "execution_count": 30,
     "metadata": {},
     "output_type": "execute_result"
    }
   ],
   "source": [
    "type(\"amit\")"
   ]
  },
  {
   "cell_type": "code",
   "execution_count": 31,
   "id": "89bc1665-592a-46ff-996b-1b960e69b63d",
   "metadata": {},
   "outputs": [
    {
     "data": {
      "text/plain": [
       "complex"
      ]
     },
     "execution_count": 31,
     "metadata": {},
     "output_type": "execute_result"
    }
   ],
   "source": [
    "type(3+4j)"
   ]
  },
  {
   "cell_type": "markdown",
   "id": "01813d01-042e-477b-b964-2b18510dd2e0",
   "metadata": {},
   "source": [
    "# Variables"
   ]
  },
  {
   "cell_type": "code",
   "execution_count": 34,
   "id": "dbb97f8e-46c9-497e-a2f4-4775e9825511",
   "metadata": {},
   "outputs": [
    {
     "name": "stdout",
     "output_type": "stream",
     "text": [
      "amit\n",
      "11\n"
     ]
    }
   ],
   "source": [
    "# create a variable\n",
    "name = 'amit'\n",
    "print(name)\n",
    "\n",
    "a = 5\n",
    "b = 6\n",
    "print(a+b)"
   ]
  },
  {
   "cell_type": "code",
   "execution_count": null,
   "id": "63c0be71-c17c-4db9-8b1c-6db7d7541562",
   "metadata": {},
   "outputs": [],
   "source": [
    "# Dynamic Typing\n",
    "a = 5\n",
    "# Static Typing\n",
    "int a = 5"
   ]
  },
  {
   "cell_type": "code",
   "execution_count": 35,
   "id": "22ae23a1-a9a7-45a2-aec8-f45415e854e6",
   "metadata": {},
   "outputs": [
    {
     "name": "stdout",
     "output_type": "stream",
     "text": [
      "5\n",
      "amit\n"
     ]
    }
   ],
   "source": [
    "# Dynamic Binding\n",
    "a = 5\n",
    "print(a)\n",
    "a = 'amit'\n",
    "print(a)\n",
    "\n",
    "# Static Binding\n",
    "int a = 5"
   ]
  },
  {
   "cell_type": "code",
   "execution_count": 39,
   "id": "966867cd-8cec-41e0-a6eb-554a54ab6b44",
   "metadata": {},
   "outputs": [
    {
     "name": "stdout",
     "output_type": "stream",
     "text": [
      "1 2 3\n"
     ]
    }
   ],
   "source": [
    "# Stylish Declaration typing\n",
    "a = 1\n",
    "b = 2\n",
    "c = 3\n",
    "\n",
    "print(a,b,c)"
   ]
  },
  {
   "cell_type": "code",
   "execution_count": 40,
   "id": "98550d13-7af0-43f1-8f02-ebf04984f7d8",
   "metadata": {},
   "outputs": [
    {
     "name": "stdout",
     "output_type": "stream",
     "text": [
      "1 2 3\n"
     ]
    }
   ],
   "source": [
    "a,b,c = 1,2,3\n",
    "print(a,b,c)"
   ]
  },
  {
   "cell_type": "code",
   "execution_count": 42,
   "id": "ec488443-e0f7-4460-afa7-76d991fa4dd1",
   "metadata": {},
   "outputs": [
    {
     "name": "stdout",
     "output_type": "stream",
     "text": [
      "5 5 5\n"
     ]
    }
   ],
   "source": [
    "\n",
    "a=b=c=5\n",
    "print(a,b,c)"
   ]
  },
  {
   "cell_type": "markdown",
   "id": "6321a9a6-b218-45c7-a4d8-b924c7f95564",
   "metadata": {},
   "source": [
    "# Comments"
   ]
  },
  {
   "cell_type": "code",
   "execution_count": 45,
   "id": "526ef13f-8db5-48a9-9b6b-f13d9df90c26",
   "metadata": {},
   "outputs": [
    {
     "name": "stdout",
     "output_type": "stream",
     "text": [
      "9\n"
     ]
    }
   ],
   "source": [
    "# This program is adding two numbers\n",
    "a = 4 \n",
    "b = 5\n",
    "print(a+b)"
   ]
  },
  {
   "cell_type": "markdown",
   "id": "22add692-e405-453a-8c1e-4ab1d7867e14",
   "metadata": {},
   "source": [
    "# Keywords & Identifiers\n"
   ]
  },
  {
   "cell_type": "code",
   "execution_count": null,
   "id": "5271eb85-4627-4cb8-9231-3180d67feb8d",
   "metadata": {},
   "outputs": [],
   "source": [
    "# Keywords - this is a reserve keyword for python we can not use it.\n",
    "# Identifiers \n",
    "# 1 you can't use start with a digit\n",
    "1name = 'amit'\n",
    "print('1name')\n",
    "# you can use special chars -> _\n",
    "first_name = 'amit'\n",
    "print(first_name)\n",
    "_ = 'aky'\n",
    "print(_)\n",
    "\n",
    "# Identifiers can not be keyword"
   ]
  },
  {
   "cell_type": "markdown",
   "id": "7455c6bf-8316-4f7a-8d95-a7a8dca12e0d",
   "metadata": {},
   "source": [
    "# USER INPUT"
   ]
  },
  {
   "cell_type": "code",
   "execution_count": 48,
   "id": "bced0e36-8a44-4e74-baad-4b9211c6c68b",
   "metadata": {},
   "outputs": [
    {
     "name": "stdin",
     "output_type": "stream",
     "text": [
      "Enter your name amit\n"
     ]
    },
    {
     "data": {
      "text/plain": [
       "'amit'"
      ]
     },
     "execution_count": 48,
     "metadata": {},
     "output_type": "execute_result"
    }
   ],
   "source": [
    "input('Enter your name')"
   ]
  },
  {
   "cell_type": "code",
   "execution_count": 65,
   "id": "41728bb3-8011-4390-b2b9-c0edb7d04c77",
   "metadata": {},
   "outputs": [
    {
     "name": "stdin",
     "output_type": "stream",
     "text": [
      "Enter first number 45\n",
      "Enter second number 5\n"
     ]
    },
    {
     "name": "stdout",
     "output_type": "stream",
     "text": [
      "<class 'str'> <class 'str'>\n",
      "50\n",
      "<class 'str'>\n"
     ]
    }
   ],
   "source": [
    "###### Take input from users\n",
    "a = input('Enter first number')\n",
    "b = input('Enter second number')\n",
    "print(type(a),type(b))\n",
    "# add 2 numbers\n",
    "result = int(a) + int(b)\n",
    "\n",
    "# print the result\n",
    "print(result)\n",
    "print(type(a))"
   ]
  },
  {
   "cell_type": "markdown",
   "id": "6a1c55a6-bb12-48ff-93e4-041819de9e2d",
   "metadata": {},
   "source": [
    "# Type Conversion"
   ]
  },
  {
   "cell_type": "code",
   "execution_count": 64,
   "id": "75baebf3-a673-4714-a621-7d2b016c61ca",
   "metadata": {},
   "outputs": [
    {
     "name": "stdout",
     "output_type": "stream",
     "text": [
      "10.6\n"
     ]
    },
    {
     "ename": "TypeError",
     "evalue": "unsupported operand type(s) for +: 'int' and 'str'",
     "output_type": "error",
     "traceback": [
      "\u001b[0;31m---------------------------------------------------------------------------\u001b[0m",
      "\u001b[0;31mTypeError\u001b[0m                                 Traceback (most recent call last)",
      "Cell \u001b[0;32mIn[64], line 4\u001b[0m\n\u001b[1;32m      1\u001b[0m \u001b[38;5;66;03m# Implicit \u001b[39;00m\n\u001b[1;32m      2\u001b[0m \u001b[38;5;28mprint\u001b[39m(\u001b[38;5;241m5\u001b[39m\u001b[38;5;241m+\u001b[39m\u001b[38;5;241m5.6\u001b[39m)\n\u001b[0;32m----> 4\u001b[0m \u001b[38;5;28mprint\u001b[39m(\u001b[38;5;241;43m4\u001b[39;49m\u001b[43m \u001b[49m\u001b[38;5;241;43m+\u001b[39;49m\u001b[43m \u001b[49m\u001b[38;5;124;43m'\u001b[39;49m\u001b[38;5;124;43m4\u001b[39;49m\u001b[38;5;124;43m'\u001b[39;49m)\n",
      "\u001b[0;31mTypeError\u001b[0m: unsupported operand type(s) for +: 'int' and 'str'"
     ]
    }
   ],
   "source": [
    "# Implicit \n",
    "print(5+5.6)\n",
    " \n",
    "print(4 + '4')"
   ]
  },
  {
   "cell_type": "code",
   "execution_count": 61,
   "id": "5206c6ae-cfd1-4f12-87f0-79c56f20f9e3",
   "metadata": {},
   "outputs": [
    {
     "data": {
      "text/plain": [
       "4.0"
      ]
     },
     "execution_count": 61,
     "metadata": {},
     "output_type": "execute_result"
    }
   ],
   "source": [
    "# Explicit \n",
    "#type(int('4'))\n",
    "#type(int(4+5j))\n",
    "\n",
    "# int to str\n",
    "str(5)\n",
    "# float to int\n",
    "float(4)"
   ]
  },
  {
   "cell_type": "markdown",
   "id": "104287d0-411d-4f01-a309-2615a8c2ae23",
   "metadata": {},
   "source": [
    "# Literals"
   ]
  },
  {
   "cell_type": "code",
   "execution_count": 66,
   "id": "30278166-58da-4487-bfb5-6e1be6732bf7",
   "metadata": {},
   "outputs": [
    {
     "name": "stdout",
     "output_type": "stream",
     "text": [
      "10 100 200 300\n",
      "10.5 150.0 0.0015\n",
      "3.14j 3.14 0.0\n"
     ]
    }
   ],
   "source": [
    "a = 0b1010 # Binary literal\n",
    "b = 100 # Decimal Literal\n",
    "c = 0o310 # Octal Literal\n",
    "d = 0x12c # Hexadecimal Literal\n",
    "\n",
    "# Float Literal\n",
    "f1 = 10.5 \n",
    "f2 = 1.5e2\n",
    "f3 = 1.5e-3\n",
    "\n",
    "# Complex Literal\n",
    "x = 3.14j\n",
    "print(a,b,c,d)\n",
    "print(f1,f2,f3)\n",
    "print(x, x.imag, x.real)"
   ]
  },
  {
   "cell_type": "code",
   "execution_count": 68,
   "id": "6ecaa7ad-a0e7-4e41-acf5-4de45914d4e7",
   "metadata": {},
   "outputs": [
    {
     "name": "stdout",
     "output_type": "stream",
     "text": [
      "This is a python\n",
      "This is a python\n",
      "C\n",
      "This is a multiline string with more than one line code.\n",
      "😀😆😄\n",
      "raw \\n string\n"
     ]
    }
   ],
   "source": [
    "string = 'This is a python'\n",
    "strings = \"This is a python\"\n",
    "char = \"C\"\n",
    "multiline_str = \"\"\"This is a multiline string with more than one line code.\"\"\"\n",
    "unicode = u\"\\U0001f600\\U0001f606\\U0001f604\"\n",
    "raw_str = r\"raw \\n string\"\n",
    "\n",
    "print(string)\n",
    "print(strings)\n",
    "print(char)\n",
    "print(multiline_str)\n",
    "print(unicode)\n",
    "print(raw_str)"
   ]
  },
  {
   "cell_type": "code",
   "execution_count": 71,
   "id": "c2fe8819-03e5-42b5-8d6a-f121c9841f35",
   "metadata": {},
   "outputs": [
    {
     "name": "stdout",
     "output_type": "stream",
     "text": [
      "a: 5\n",
      "b: 10\n"
     ]
    }
   ],
   "source": [
    "# Boolean literals\n",
    "a = True + 4\n",
    "b = False + 10\n",
    "\n",
    "print(\"a:\",a)\n",
    "print(\"b:\",b)"
   ]
  },
  {
   "cell_type": "code",
   "execution_count": 72,
   "id": "b906128a-7d3f-4bcb-9ff8-6d8cc1a21485",
   "metadata": {},
   "outputs": [
    {
     "name": "stdout",
     "output_type": "stream",
     "text": [
      "None\n"
     ]
    }
   ],
   "source": [
    "a = None \n",
    "print(a)"
   ]
  },
  {
   "cell_type": "code",
   "execution_count": 75,
   "id": "651dcb32-8f60-497f-8365-aad7ba1ccfde",
   "metadata": {},
   "outputs": [
    {
     "name": "stdout",
     "output_type": "stream",
     "text": [
      "9\n"
     ]
    }
   ],
   "source": [
    "k = None\n",
    "a = 4\n",
    "b = 5\n",
    "print(a+b)"
   ]
  },
  {
   "cell_type": "code",
   "execution_count": null,
   "id": "83689bf6-8d1e-4e58-ad16-f67b96be23ae",
   "metadata": {},
   "outputs": [],
   "source": []
  }
 ],
 "metadata": {
  "kernelspec": {
   "display_name": "Python 3 (ipykernel)",
   "language": "python",
   "name": "python3"
  },
  "language_info": {
   "codemirror_mode": {
    "name": "ipython",
    "version": 3
   },
   "file_extension": ".py",
   "mimetype": "text/x-python",
   "name": "python",
   "nbconvert_exporter": "python",
   "pygments_lexer": "ipython3",
   "version": "3.10.8"
  }
 },
 "nbformat": 4,
 "nbformat_minor": 5
}
